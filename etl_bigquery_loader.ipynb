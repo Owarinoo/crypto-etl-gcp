{
  "nbformat": 4,
  "nbformat_minor": 0,
  "metadata": {
    "colab": {
      "provenance": []
    },
    "kernelspec": {
      "name": "python3",
      "display_name": "Python 3"
    },
    "language_info": {
      "name": "python"
    }
  },
  "cells": [
    {
      "cell_type": "code",
      "execution_count": null,
      "metadata": {
        "id": "eW1OxlDlf2Zo"
      },
      "outputs": [],
      "source": [
        "import requests\n",
        "import pandas as pd\n",
        "import time\n",
        "from google.cloud import bigquery\n",
        "import datetime\n",
        "import os\n"
      ]
    },
    {
      "cell_type": "code",
      "source": [
        "# URL de l'API CoinGecko\n",
        "API_URL = \"https://api.coingecko.com/api/v3/coins/markets\"\n",
        "\n",
        "# Paramètres de la requête\n",
        "params = {\n",
        "    \"vs_currency\": \"usd\",  # Devise (USD, EUR, BTC, etc.)\n",
        "    \"order\": \"market_cap_desc\",  # Trier par capitalisation boursière\n",
        "    \"per_page\": 10,  # Nombre de cryptos à récupérer\n",
        "    \"page\": 1,\n",
        "    \"sparkline\": False  # Pas besoin des données de tendance\n",
        "}\n",
        "\n",
        "def fetch_crypto_data():\n",
        "    \"\"\"Récupère les données des cryptos depuis l'API CoinGecko\"\"\"\n",
        "    response = requests.get(API_URL, params=params)\n",
        "    if response.status_code == 200:\n",
        "        data = response.json()\n",
        "        return pd.DataFrame(data)  # Convertir en DataFrame\n",
        "    else:\n",
        "        print(f\"Erreur {response.status_code} : {response.text}\")\n",
        "        return None\n",
        "\n",
        "# Exécuter la requête et afficher les résultats\n",
        "crypto_df = fetch_crypto_data()\n",
        "print(crypto_df.columns)\n",
        "df = crypto_df\n",
        "# Transformation des données (ex. Conversion devise, moyennes mobiles)\n",
        "df[\"timestamp\"] = datetime.datetime.now().strftime(\"%Y-%m-%d %H:%M:%S\")\n",
        "conversion_rate = 0.95  # Exemple de taux de change\n",
        "df[\"current_price_eur\"] = df[\"current_price\"] * conversion_rate\n",
        "df[\"price_7d_avg\"] = df[\"current_price\"].rolling(window=7).mean()\n",
        "df[\"price_30d_avg\"] = df[\"current_price\"].rolling(window=30).mean()\n",
        "df[\"price_change_percentage_24h_flag\"] = df[\"price_change_percentage_24h\"].apply(lambda x: \"Anomalie\" if abs(x) > 10 else \"Normal\")\n",
        "\n",
        "print(crypto_df[[\"id\", \"symbol\", \"current_price\", \"market_cap\", \"price_change_percentage_24h\", \"timestamp\", \"price_7d_avg\", \"price_30d_avg\", \"current_price_eur\", \"price_change_percentage_24h_flag\", \"total_volume\"]])"
      ],
      "metadata": {
        "colab": {
          "base_uri": "https://localhost:8080/"
        },
        "id": "KenxyUdZgjbO",
        "outputId": "220971bf-924b-4349-9ee1-8d32bf154fb5"
      },
      "execution_count": null,
      "outputs": [
        {
          "output_type": "stream",
          "name": "stdout",
          "text": [
            "Index(['id', 'symbol', 'name', 'image', 'current_price', 'market_cap',\n",
            "       'market_cap_rank', 'fully_diluted_valuation', 'total_volume',\n",
            "       'high_24h', 'low_24h', 'price_change_24h',\n",
            "       'price_change_percentage_24h', 'market_cap_change_24h',\n",
            "       'market_cap_change_percentage_24h', 'circulating_supply',\n",
            "       'total_supply', 'max_supply', 'ath', 'ath_change_percentage',\n",
            "       'ath_date', 'atl', 'atl_change_percentage', 'atl_date', 'roi',\n",
            "       'last_updated'],\n",
            "      dtype='object')\n",
            "             id symbol  current_price     market_cap  \\\n",
            "0       bitcoin    btc   97524.000000  1933254001929   \n",
            "1      ethereum    eth    2684.670000   323539950393   \n",
            "2        ripple    xrp       2.730000   157647955427   \n",
            "3        tether   usdt       1.000000   142013103902   \n",
            "4   binancecoin    bnb     658.840000    96120240333   \n",
            "5        solana    sol     193.110000    94298956002   \n",
            "6      usd-coin   usdc       0.999949    56350887912   \n",
            "7      dogecoin   doge       0.269556    39875219514   \n",
            "8       cardano    ada       0.778534    27941754583   \n",
            "9  staked-ether  steth    2684.440000    25217348081   \n",
            "\n",
            "   price_change_percentage_24h            timestamp  price_7d_avg  \\\n",
            "0                      0.43232  2025-02-15 21:02:19           NaN   \n",
            "1                     -1.47350  2025-02-15 21:02:19           NaN   \n",
            "2                     -0.40736  2025-02-15 21:02:19           NaN   \n",
            "3                     -0.01975  2025-02-15 21:02:19           NaN   \n",
            "4                     -0.37337  2025-02-15 21:02:19           NaN   \n",
            "5                     -3.84856  2025-02-15 21:02:19           NaN   \n",
            "6                      0.00132  2025-02-15 21:02:19  14437.907136   \n",
            "7                     -1.21591  2025-02-15 21:02:19    505.945644   \n",
            "8                     -3.20005  2025-02-15 21:02:19    122.532577   \n",
            "9                     -1.53695  2025-02-15 21:02:19    505.634006   \n",
            "\n",
            "   price_30d_avg  current_price_eur price_change_percentage_24h_flag  \\\n",
            "0            NaN       92647.800000                           Normal   \n",
            "1            NaN        2550.436500                           Normal   \n",
            "2            NaN           2.593500                           Normal   \n",
            "3            NaN           0.950000                           Normal   \n",
            "4            NaN         625.898000                           Normal   \n",
            "5            NaN         183.454500                           Normal   \n",
            "6            NaN           0.949952                           Normal   \n",
            "7            NaN           0.256078                           Normal   \n",
            "8            NaN           0.739607                           Normal   \n",
            "9            NaN        2550.218000                           Normal   \n",
            "\n",
            "   total_volume  \n",
            "0   16938719656  \n",
            "1   10522743232  \n",
            "2    4313392981  \n",
            "3   40681172631  \n",
            "4    1016201917  \n",
            "5    2721836468  \n",
            "6    6749175476  \n",
            "7    1705459262  \n",
            "8     505193270  \n",
            "9      29155919  \n"
          ]
        }
      ]
    },
    {
      "cell_type": "code",
      "source": [
        "import pandas as pd\n",
        "\n",
        "def transform_crypto_data(df):\n",
        "    \"\"\"Transformation des données des cryptomonnaies.\"\"\"\n",
        "\n",
        "    # 1. Conversion des devises (par exemple, de USD à EUR)\n",
        "    # On va simplement multiplier par un taux de conversion fictif, mais tu peux intégrer une API pour cela.\n",
        "    conversion_rate = 0.95  # Exemple de taux de change USD -> EUR\n",
        "    df[\"current_price_eur\"] = df[\"current_price\"] * conversion_rate\n",
        "\n",
        "\n",
        "    # 3. Détection des anomalies : Si la variation est supérieure à 10%\n",
        "    df[\"price_change_percentage_24h_flag\"] = df[\"price_change_percentage_24h\"].apply(lambda x: \"Anomalie\" if abs(x) > 10 else \"Normal\")\n",
        "\n",
        "    return df\n",
        "\n",
        "# Convertir en DataFrame\n",
        "crypto_df = crypto_df[[\"id\", \"symbol\", \"current_price\", \"market_cap\", \"price_change_percentage_24h\",\"timestamp\", \"price_7d_avg\", \"price_30d_avg\",\"total_volume\"]]\n",
        "crypto_df[\"timestamp\"] = pd.to_datetime(crypto_df['timestamp'])\n",
        "# Appliquer la transformation\n",
        "transformed_df = transform_crypto_data(crypto_df)\n",
        "\n",
        "# Afficher les résultats\n",
        "print(transformed_df)"
      ],
      "metadata": {
        "colab": {
          "base_uri": "https://localhost:8080/"
        },
        "id": "MlIeFP7BgpXb",
        "outputId": "8d6858cc-57a0-48d7-e33b-d8fc406c0e98"
      },
      "execution_count": null,
      "outputs": [
        {
          "output_type": "stream",
          "name": "stdout",
          "text": [
            "             id symbol  current_price     market_cap  \\\n",
            "0       bitcoin    btc   97524.000000  1933254001929   \n",
            "1      ethereum    eth    2684.670000   323539950393   \n",
            "2        ripple    xrp       2.730000   157647955427   \n",
            "3        tether   usdt       1.000000   142013103902   \n",
            "4   binancecoin    bnb     658.840000    96120240333   \n",
            "5        solana    sol     193.110000    94298956002   \n",
            "6      usd-coin   usdc       0.999949    56350887912   \n",
            "7      dogecoin   doge       0.269556    39875219514   \n",
            "8       cardano    ada       0.778534    27941754583   \n",
            "9  staked-ether  steth    2684.440000    25217348081   \n",
            "\n",
            "   price_change_percentage_24h           timestamp  price_7d_avg  \\\n",
            "0                      0.43232 2025-02-15 21:02:19           NaN   \n",
            "1                     -1.47350 2025-02-15 21:02:19           NaN   \n",
            "2                     -0.40736 2025-02-15 21:02:19           NaN   \n",
            "3                     -0.01975 2025-02-15 21:02:19           NaN   \n",
            "4                     -0.37337 2025-02-15 21:02:19           NaN   \n",
            "5                     -3.84856 2025-02-15 21:02:19           NaN   \n",
            "6                      0.00132 2025-02-15 21:02:19  14437.907136   \n",
            "7                     -1.21591 2025-02-15 21:02:19    505.945644   \n",
            "8                     -3.20005 2025-02-15 21:02:19    122.532577   \n",
            "9                     -1.53695 2025-02-15 21:02:19    505.634006   \n",
            "\n",
            "   price_30d_avg  total_volume  current_price_eur  \\\n",
            "0            NaN   16938719656       92647.800000   \n",
            "1            NaN   10522743232        2550.436500   \n",
            "2            NaN    4313392981           2.593500   \n",
            "3            NaN   40681172631           0.950000   \n",
            "4            NaN    1016201917         625.898000   \n",
            "5            NaN    2721836468         183.454500   \n",
            "6            NaN    6749175476           0.949952   \n",
            "7            NaN    1705459262           0.256078   \n",
            "8            NaN     505193270           0.739607   \n",
            "9            NaN      29155919        2550.218000   \n",
            "\n",
            "  price_change_percentage_24h_flag  \n",
            "0                           Normal  \n",
            "1                           Normal  \n",
            "2                           Normal  \n",
            "3                           Normal  \n",
            "4                           Normal  \n",
            "5                           Normal  \n",
            "6                           Normal  \n",
            "7                           Normal  \n",
            "8                           Normal  \n",
            "9                           Normal  \n"
          ]
        },
        {
          "output_type": "stream",
          "name": "stderr",
          "text": [
            "<ipython-input-36-c409777eb759>:19: SettingWithCopyWarning: \n",
            "A value is trying to be set on a copy of a slice from a DataFrame.\n",
            "Try using .loc[row_indexer,col_indexer] = value instead\n",
            "\n",
            "See the caveats in the documentation: https://pandas.pydata.org/pandas-docs/stable/user_guide/indexing.html#returning-a-view-versus-a-copy\n",
            "  crypto_df[\"timestamp\"] = pd.to_datetime(crypto_df['timestamp'])\n"
          ]
        }
      ]
    },
    {
      "cell_type": "code",
      "source": [
        "from google.colab import auth\n",
        "auth.authenticate_user()"
      ],
      "metadata": {
        "id": "mrBqVdQdlw8W"
      },
      "execution_count": null,
      "outputs": []
    },
    {
      "cell_type": "code",
      "source": [
        "# Variables d'API et BigQuery\n",
        "PROJECT_ID = os.getenv(\"scenic-comfort-450700-h8\")\n",
        "DATASET_ID = \"crypto_data\"\n",
        "TABLE_ID = \"crypto_data_1\"\n",
        "\n",
        "os.environ[\"GOOGLE_CLOUD_PROJECT\"] = \"scenic-comfort-450700-h8\"\n",
        "\n",
        "\n",
        "def fun_enregistrement(df, PROJECT_ID, DATASET_ID, TABLE_ID):\n",
        "\n",
        "  # Enregistrement dans BigQuery\n",
        "    client = bigquery.Client()\n",
        "    table_ref = client.dataset(DATASET_ID).table(TABLE_ID)\n",
        "    job_config = bigquery.LoadJobConfig(write_disposition=\"WRITE_APPEND\")\n",
        "    load_job = client.load_table_from_dataframe(df, table_ref, job_config=job_config)\n",
        "\n",
        "    load_job.result()  # Attendre que l'import soit terminé\n",
        "\n",
        "fun_enregistrement(transformed_df, PROJECT_ID, DATASET_ID, TABLE_ID)"
      ],
      "metadata": {
        "id": "kciFSPBehLrS"
      },
      "execution_count": null,
      "outputs": []
    },
    {
      "cell_type": "code",
      "source": [],
      "metadata": {
        "id": "2JBWiXRolaDW"
      },
      "execution_count": null,
      "outputs": []
    }
  ]
}
